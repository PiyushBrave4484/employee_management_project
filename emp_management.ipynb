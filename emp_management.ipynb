{
 "cells": [
  {
   "cell_type": "markdown",
   "id": "ddd73881-8c8b-4def-a0ae-f4ac8c9cba8e",
   "metadata": {},
   "source": [
    "# Employee Managment System"
   ]
  },
  {
   "cell_type": "code",
   "execution_count": 2,
   "id": "1e8a59e3-1b5a-48eb-8624-9d1babbd5874",
   "metadata": {},
   "outputs": [
    {
     "name": "stdout",
     "output_type": "stream",
     "text": [
      "Defaulting to user installation because normal site-packages is not writeable\n",
      "Requirement already satisfied: mysql-connector-python in c:\\users\\piyush kadam\\appdata\\roaming\\python\\python312\\site-packages (9.1.0)\n"
     ]
    }
   ],
   "source": [
    "!pip install mysql-connector-python"
   ]
  },
  {
   "cell_type": "markdown",
   "id": "48dd7147-e67a-4f21-9816-f12484a5ae12",
   "metadata": {},
   "source": [
    "# Connecting with mysql database"
   ]
  },
  {
   "cell_type": "code",
   "execution_count": 3,
   "id": "3a1c7b28-9b83-424b-8374-aa55a96febac",
   "metadata": {},
   "outputs": [
    {
     "name": "stdout",
     "output_type": "stream",
     "text": [
      "Connections Established\n"
     ]
    }
   ],
   "source": [
    "import mysql.connector as myc\n",
    "\n",
    "def connect_db(): \n",
    "    return myc.connect(\n",
    "        host='localhost',\n",
    "        user='root',\n",
    "        password='Piyush@02',\n",
    "        database='employee_managment_project'\n",
    "    )\n",
    "\n",
    "conn=connect_db()\n",
    "\n",
    "print(\"Connections Established\")"
   ]
  },
  {
   "cell_type": "code",
   "execution_count": 5,
   "id": "ee7d8ac9-d633-4075-8317-e5405738c6c2",
   "metadata": {},
   "outputs": [
    {
     "name": "stdout",
     "output_type": "stream",
     "text": [
      "Tables in the database: [('emp_data',)]\n"
     ]
    }
   ],
   "source": [
    "def show_tables(conn):\n",
    "    cursor = conn.cursor()\n",
    "    cursor.execute(\"SHOW TABLES;\")\n",
    "    tables = cursor.fetchall()\n",
    "    cursor.close()\n",
    "    return tables\n",
    "\n",
    "# Test the connection by listing all tables\n",
    "tables = show_tables(conn)\n",
    "print(\"Tables in the database:\", tables)"
   ]
  },
  {
   "cell_type": "markdown",
   "id": "1728827f-04de-4512-9187-caa464877f68",
   "metadata": {},
   "source": [
    "#  add employee function"
   ]
  },
  {
   "cell_type": "code",
   "execution_count": 7,
   "id": "f8c99c8b-c1e7-4348-9cff-330b7c8bc118",
   "metadata": {},
   "outputs": [],
   "source": [
    "def add_employee(conn,name,department,promotion_status='Not Promoted'):\n",
    "    cursor=conn.cursor()\n",
    "    query=(\"INSERT INTO emp_data (name,department,promotion_status)\"\n",
    "           \"VALUES (%s,%s,%s)\")\n",
    "    cursor.execute(query,(name,department,promotion_status))\n",
    "    conn.commit()\n",
    "    cursor.close()\n",
    "    print(f\"Employee {name} added successfully!\")"
   ]
  },
  {
   "cell_type": "markdown",
   "id": "9bfe8d9d-d1bb-4ee0-b52a-ba7264a5a1e9",
   "metadata": {},
   "source": [
    "# Promote employee function"
   ]
  },
  {
   "cell_type": "code",
   "execution_count": 9,
   "id": "55989a6d-f5e7-48ae-a881-f05b50f03850",
   "metadata": {},
   "outputs": [],
   "source": [
    "def promote_employee(conn,employee_id):\n",
    "    cursor=conn.cursor()\n",
    "    query=\"UPDATE emp_data SET promotion_status= 'Promoted' WHERE id=%s\"\n",
    "    cursor.execute(query,(employee_id,))\n",
    "    conn.commit()\n",
    "    cursor.close()\n",
    "    print(f\"Employee with ID {employee_id} promoted successfully !\")"
   ]
  },
  {
   "cell_type": "markdown",
   "id": "dd0dc299-3b34-4fe4-a0b0-0b5e6318952d",
   "metadata": {},
   "source": [
    "# Display employees function"
   ]
  },
  {
   "cell_type": "code",
   "execution_count": 11,
   "id": "9a76ec9e-4179-4061-9180-41f5c3f44bbc",
   "metadata": {},
   "outputs": [],
   "source": [
    "def display_employee(conn):\n",
    "    cursor=conn.cursor()\n",
    "    query=\"SELECT * from emp_data\"\n",
    "    cursor.execute(query)\n",
    "    for i in cursor.fetchall():\n",
    "        print(i)\n",
    "    cursor.close()"
   ]
  },
  {
   "cell_type": "markdown",
   "id": "2d37e229-ff47-409b-9a9d-cc0be0036b8e",
   "metadata": {},
   "source": [
    "# Remove employees function"
   ]
  },
  {
   "cell_type": "code",
   "execution_count": 35,
   "id": "316e035c-664e-4c00-8629-d8c158fff88c",
   "metadata": {},
   "outputs": [],
   "source": [
    "def remove_employee(conn,employee_id):\n",
    "    cursor=conn.cursor()\n",
    "    query=\"DELETE FROM emp_data WHERE id=%s\"\n",
    "    cursor.execute(query,(employee_id,))\n",
    "    conn.commit()\n",
    "    cursor.close()\n",
    "    print(f\"Employee with ID {employee_id} removed successfully!\")"
   ]
  },
  {
   "cell_type": "markdown",
   "id": "7657cfb2-adca-49c8-81cc-72359ffb6a6f",
   "metadata": {},
   "source": [
    "# Creating user interface"
   ]
  },
  {
   "cell_type": "code",
   "execution_count": 37,
   "id": "f06400e8-54df-4e56-ba00-bce63d40c836",
   "metadata": {},
   "outputs": [
    {
     "name": "stdout",
     "output_type": "stream",
     "text": [
      "\n",
      "Commands: add, promote, display, remove, exit\n"
     ]
    },
    {
     "name": "stdin",
     "output_type": "stream",
     "text": [
      "Enter Your Choice:  remove\n",
      "Enter employee ID to remove:  2\n"
     ]
    },
    {
     "name": "stdout",
     "output_type": "stream",
     "text": [
      "Employee with ID 2 removed successfully!\n",
      "\n",
      "Commands: add, promote, display, remove, exit\n"
     ]
    },
    {
     "name": "stdin",
     "output_type": "stream",
     "text": [
      "Enter Your Choice:  display\n"
     ]
    },
    {
     "name": "stdout",
     "output_type": "stream",
     "text": [
      "(1, 'Piyush Kadam', 'MIS', 'Promoted')\n",
      "(3, 'Rahul Dravid', 'HR', 'Not Promoted')\n",
      "\n",
      "Commands: add, promote, display, remove, exit\n"
     ]
    },
    {
     "name": "stdin",
     "output_type": "stream",
     "text": [
      "Enter Your Choice:  exit\n"
     ]
    }
   ],
   "source": [
    "def main():\n",
    "    conn = connect_db()\n",
    "    while True:\n",
    "        print(\"\\nCommands: add, promote, display, remove, exit\")\n",
    "        choice = input(\"Enter Your Choice: \").strip().lower()\n",
    "        if choice == 'add':\n",
    "            name = input(\"Enter name: \")\n",
    "            department = input(\"Enter department: \")\n",
    "            add_employee(conn, name, department)\n",
    "        elif choice == 'promote':\n",
    "            employee_id = int(input(\"Enter employee ID to promote: \"))\n",
    "            promote_employee(conn, employee_id)\n",
    "        elif choice == 'display':\n",
    "            display_employee(conn)\n",
    "        elif choice == 'remove':\n",
    "            employee_id = int(input(\"Enter employee ID to remove: \"))\n",
    "            remove_employee(conn, employee_id)  # Ensure employee_id is passed here\n",
    "        elif choice == 'exit':\n",
    "            break\n",
    "        else:\n",
    "            print(\"Invalid Input. Please choose from add, promote, display, remove, exit.\")\n",
    "\n",
    "    conn.close()\n",
    "\n",
    "if __name__ == \"__main__\":\n",
    "    main()\n"
   ]
  },
  {
   "cell_type": "markdown",
   "id": "48f1b026-f94e-4578-bbb8-7596f4e82f63",
   "metadata": {},
   "source": [
    "# Displaying over web"
   ]
  },
  {
   "cell_type": "code",
   "execution_count": null,
   "id": "3f9e1a00-afd9-4d20-b038-82a646e53272",
   "metadata": {},
   "outputs": [],
   "source": []
  }
 ],
 "metadata": {
  "kernelspec": {
   "display_name": "Python 3 (ipykernel)",
   "language": "python",
   "name": "python3"
  },
  "language_info": {
   "codemirror_mode": {
    "name": "ipython",
    "version": 3
   },
   "file_extension": ".py",
   "mimetype": "text/x-python",
   "name": "python",
   "nbconvert_exporter": "python",
   "pygments_lexer": "ipython3",
   "version": "3.12.4"
  }
 },
 "nbformat": 4,
 "nbformat_minor": 5
}
